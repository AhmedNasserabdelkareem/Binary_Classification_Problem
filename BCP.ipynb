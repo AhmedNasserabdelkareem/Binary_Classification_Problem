{
  "nbformat": 4,
  "nbformat_minor": 0,
  "metadata": {
    "colab": {
      "name": "Untitled1.ipynb",
      "provenance": [],
      "collapsed_sections": []
    },
    "kernelspec": {
      "name": "python3",
      "display_name": "Python 3"
    }
  },
  "cells": [
    {
      "cell_type": "markdown",
      "metadata": {
        "id": "RR7YPsiYXeOQ",
        "colab_type": "text"
      },
      "source": [
        "# Imports"
      ]
    },
    {
      "cell_type": "code",
      "metadata": {
        "id": "4i1Cy0ahXm8i",
        "colab_type": "code",
        "colab": {}
      },
      "source": [
        "from sklearn.datasets import load_iris\n",
        "from sklearn.linear_model import LogisticRegression\n",
        "import pandas as pd\n",
        "import numpy as np\n",
        "from sklearn.preprocessing import StandardScaler\n",
        "from sklearn.model_selection import train_test_split\n",
        "from sklearn.linear_model import LogisticRegression"
      ],
      "execution_count": 2,
      "outputs": []
    },
    {
      "cell_type": "markdown",
      "metadata": {
        "id": "XfzPGxjfXoZc",
        "colab_type": "text"
      },
      "source": [
        "# Reading Data"
      ]
    },
    {
      "cell_type": "code",
      "metadata": {
        "id": "-ZJMgLQ6-Tki",
        "colab_type": "code",
        "colab": {}
      },
      "source": [
        "def reading_data(filename):\n",
        "  raw_data= []\n",
        "  with open(filename) as f:\n",
        "      data = [line.split() for line in f]\n",
        "  for row in data:\n",
        "    raw_data.append(str(row[0]).strip().split(';'))\n",
        "  df = pd.DataFrame(raw_data[1:], columns=raw_data[0])\n",
        "  return df"
      ],
      "execution_count": 3,
      "outputs": []
    },
    {
      "cell_type": "code",
      "metadata": {
        "id": "MC9HAsdNhfc4",
        "colab_type": "code",
        "colab": {}
      },
      "source": [
        "train_df = reading_data('training.csv')\n",
        "test_df = reading_data('validation.csv')\n",
        "train_y = train_df['\"classLabel\"']\n",
        "test_y = test_df['\"classLabel\"']\n",
        "train_df = train_df.drop(columns=['\"classLabel\"'])\n",
        "test_df = test_df.drop(columns=['\"classLabel\"'])"
      ],
      "execution_count": 24,
      "outputs": []
    },
    {
      "cell_type": "code",
      "metadata": {
        "id": "hrYeXKJcfJ-k",
        "colab_type": "code",
        "colab": {}
      },
      "source": [
        "categorial_features=[]\n",
        "numberical_feature= []\n",
        "for col in train_df.columns:\n",
        "  tmp = train_df[col].unique()\n",
        "  types=[]\n",
        "  for i in tmp:\n",
        "    if any(char.isdigit() for char in i):\n",
        "      types.append(True)\n",
        "    else:\n",
        "      types.append(False)\n",
        "  if max(types) == True:\n",
        "    numberical_feature.append(col)\n",
        "  else:\n",
        "    categorial_features.append(col)"
      ],
      "execution_count": 25,
      "outputs": []
    },
    {
      "cell_type": "markdown",
      "metadata": {
        "id": "vkd9JtCpiNEB",
        "colab_type": "text"
      },
      "source": [
        "# data cleansing"
      ]
    },
    {
      "cell_type": "code",
      "metadata": {
        "id": "L6FhkXjQjs89",
        "colab_type": "code",
        "colab": {
          "base_uri": "https://localhost:8080/",
          "height": 319
        },
        "outputId": "e183fd0c-bc35-418f-89e6-8f8580bbd2d9"
      },
      "source": [
        "for col in train_df.columns:\n",
        "  print(col,len(train_df.loc[train_df[col]== 'NA'].values))"
      ],
      "execution_count": 26,
      "outputs": [
        {
          "output_type": "stream",
          "text": [
            "\"variable1\" 39\n",
            "\"variable2\" 39\n",
            "\"variable3\" 0\n",
            "\"variable4\" 64\n",
            "\"variable5\" 64\n",
            "\"variable6\" 66\n",
            "\"variable7\" 66\n",
            "\"variable8\" 0\n",
            "\"variable9\" 0\n",
            "\"variable10\" 0\n",
            "\"variable11\" 0\n",
            "\"variable12\" 0\n",
            "\"variable13\" 0\n",
            "\"variable14\" 100\n",
            "\"variable15\" 0\n",
            "\"variable17\" 100\n",
            "\"variable18\" 2145\n",
            "\"variable19\" 0\n"
          ],
          "name": "stdout"
        }
      ]
    },
    {
      "cell_type": "code",
      "metadata": {
        "id": "4OqCUCQKngcZ",
        "colab_type": "code",
        "colab": {}
      },
      "source": [
        "#Most of varibale18 columns is null so we can drop it\n",
        "train_df = train_df.drop(columns=['\"variable18\"'])\n",
        "test_df = test_df.drop(columns=['\"variable18\"'])\n",
        "categorial_features.remove('\"variable18\"')"
      ],
      "execution_count": 27,
      "outputs": []
    },
    {
      "cell_type": "code",
      "metadata": {
        "id": "Vxo2X0jZqiMk",
        "colab_type": "code",
        "colab": {}
      },
      "source": [
        "def reformat_numerical(x):\n",
        "  if x != 'NA':\n",
        "    return float(str(x.replace(\",\",\".\")))\n",
        "  else:\n",
        "    return np.NaN"
      ],
      "execution_count": 28,
      "outputs": []
    },
    {
      "cell_type": "code",
      "metadata": {
        "id": "6h7p06IKt1e4",
        "colab_type": "code",
        "colab": {}
      },
      "source": [
        "def reformat_categorial(x):\n",
        "  if x == 'NA':\n",
        "    return np.NaN\n",
        "  else:\n",
        "    return x"
      ],
      "execution_count": 29,
      "outputs": []
    },
    {
      "cell_type": "code",
      "metadata": {
        "id": "6AoMkKCLpqVQ",
        "colab_type": "code",
        "colab": {}
      },
      "source": [
        "for col in train_df.columns:\n",
        "  if col in numberical_feature:\n",
        "    train_df[col] =train_df[col].apply(reformat_numerical)\n",
        "    test_df[col] =test_df[col].apply(reformat_numerical)\n",
        "  else:\n",
        "    train_df[col] =train_df[col].apply(reformat_categorial)\n",
        "    test_df[col] =test_df[col].apply(reformat_categorial)\n"
      ],
      "execution_count": 30,
      "outputs": []
    },
    {
      "cell_type": "code",
      "metadata": {
        "id": "qVd-W4XjIlNC",
        "colab_type": "code",
        "colab": {}
      },
      "source": [
        "def convert_class_label(data):\n",
        "  for i in range(0,len(data)):\n",
        "    if data[i] == '\"yes.\"':\n",
        "      data[i] = 1\n",
        "    else:\n",
        "      data[i] = 0"
      ],
      "execution_count": 31,
      "outputs": []
    },
    {
      "cell_type": "code",
      "metadata": {
        "id": "bM-HOZQ_JG0I",
        "colab_type": "code",
        "colab": {}
      },
      "source": [
        "convert_class_label(train_y)\n",
        "convert_class_label(test_y)"
      ],
      "execution_count": 32,
      "outputs": []
    },
    {
      "cell_type": "markdown",
      "metadata": {
        "id": "drymptIrpQtR",
        "colab_type": "text"
      },
      "source": [
        "# Handling missing data"
      ]
    },
    {
      "cell_type": "markdown",
      "metadata": {
        "id": "drXVp0G_v-kp",
        "colab_type": "text"
      },
      "source": [
        "Now we will replace missing data of numerical features with mean of column"
      ]
    },
    {
      "cell_type": "code",
      "metadata": {
        "id": "vW7VwAGwqz3S",
        "colab_type": "code",
        "colab": {}
      },
      "source": [
        "train_df.fillna((train_df.mean()), inplace=True)\n",
        "test_df.fillna((test_df.mean()), inplace=True)"
      ],
      "execution_count": 33,
      "outputs": []
    },
    {
      "cell_type": "markdown",
      "metadata": {
        "id": "TMUXQ1hxwTZ1",
        "colab_type": "text"
      },
      "source": [
        "Now we will replace missing data of categorial features with most common value of column"
      ]
    },
    {
      "cell_type": "code",
      "metadata": {
        "id": "_TsWv5-nwRUM",
        "colab_type": "code",
        "colab": {}
      },
      "source": [
        "# the number of missing data in categorial features is small, So we can replace it with the most frequent value\n",
        "train_df.fillna(train_df.mode().iloc[0],inplace=True)\n",
        "test_df.fillna(test_df.mode().iloc[0],inplace=True)"
      ],
      "execution_count": 34,
      "outputs": []
    },
    {
      "cell_type": "markdown",
      "metadata": {
        "id": "zDCN5Ec_wwLp",
        "colab_type": "text"
      },
      "source": [
        "# Handling Categorial Data"
      ]
    },
    {
      "cell_type": "code",
      "metadata": {
        "id": "AIVJxcnKutFI",
        "colab_type": "code",
        "colab": {}
      },
      "source": [
        "def categorial_to_classes(data):\n",
        "  for col in categorial_features:\n",
        "    labels = col+data[col].value_counts().index\n",
        "    one_hot = pd.get_dummies(data[col])\n",
        "    one_hot.columns = labels\n",
        "    data = data.drop(col,axis = 1)\n",
        "    data = pd.concat([data,one_hot],axis=1)\n",
        "  return data"
      ],
      "execution_count": 35,
      "outputs": []
    },
    {
      "cell_type": "code",
      "metadata": {
        "id": "CixYajgnGbvd",
        "colab_type": "code",
        "colab": {}
      },
      "source": [
        "train_df = categorial_to_classes(train_df)\n",
        "test_df = categorial_to_classes(test_df)"
      ],
      "execution_count": 36,
      "outputs": []
    },
    {
      "cell_type": "markdown",
      "metadata": {
        "id": "UqDd9Hp4uW7P",
        "colab_type": "text"
      },
      "source": [
        "# Normalizing"
      ]
    },
    {
      "cell_type": "code",
      "metadata": {
        "id": "RneDdwleLBck",
        "colab_type": "code",
        "colab": {}
      },
      "source": [
        "def normalize(data):\n",
        "  s = StandardScaler()\n",
        "  numerical_data_df = data[[i for i in numberical_feature]]\n",
        "  data = data.drop([i for i in numberical_feature],axis=1)\n",
        "  normalized = s.fit_transform(numerical_data_df)\n",
        "  normalizedData = pd.DataFrame(data = normalized,columns=numerical_data_df.columns)\n",
        "  data = pd.concat([normalizedData,data],axis=1)\n",
        "  return data"
      ],
      "execution_count": 37,
      "outputs": []
    },
    {
      "cell_type": "code",
      "metadata": {
        "id": "zl0wWB6Uw_XC",
        "colab_type": "code",
        "colab": {}
      },
      "source": [
        "train_df = normalize(train_df)\n",
        "test_df = normalize(test_df)"
      ],
      "execution_count": null,
      "outputs": []
    },
    {
      "cell_type": "code",
      "metadata": {
        "id": "OuzSKzjyz73a",
        "colab_type": "code",
        "colab": {}
      },
      "source": [
        "for i in train_df.columns:\n",
        "  if i not in test_df.columns:\n",
        "    tmp = pd.DataFrame([0]*test_df.shape[0],columns=[i])\n",
        "    test_df= pd.concat([test_df,tmp],axis=1)"
      ],
      "execution_count": 46,
      "outputs": []
    },
    {
      "cell_type": "code",
      "metadata": {
        "id": "J4RZmqLy0UDU",
        "colab_type": "code",
        "colab": {}
      },
      "source": [
        "test_df = test_df.reindex(train_df.columns, axis=1)"
      ],
      "execution_count": 48,
      "outputs": []
    },
    {
      "cell_type": "markdown",
      "metadata": {
        "id": "ekQcpEgo63uo",
        "colab_type": "text"
      },
      "source": [
        "# Model"
      ]
    },
    {
      "cell_type": "markdown",
      "metadata": {
        "id": "aiFj_iSu7I-F",
        "colab_type": "text"
      },
      "source": [
        "First split data to make cross validation data and test the model against it."
      ]
    },
    {
      "cell_type": "code",
      "metadata": {
        "id": "ujJE9jBF4ZfT",
        "colab_type": "code",
        "colab": {}
      },
      "source": [
        "X_train, X_test, y_train, y_test = train_test_split(train_df,train_y.astype(int),test_size = 0.9,random_state = 20)"
      ],
      "execution_count": 82,
      "outputs": []
    },
    {
      "cell_type": "code",
      "metadata": {
        "id": "U-m06IBN6Whn",
        "colab_type": "code",
        "colab": {
          "base_uri": "https://localhost:8080/",
          "height": 34
        },
        "outputId": "3ca674f3-d31a-48a4-ad6c-630553b06935"
      },
      "source": [
        "log = LogisticRegression()\n",
        "log.fit(X_train,y_train)\n",
        "print(\"Accuracy of the model: \",log.score(X_test,y_test))"
      ],
      "execution_count": 88,
      "outputs": [
        {
          "output_type": "stream",
          "text": [
            "Accuracy of the model:  1.0\n"
          ],
          "name": "stdout"
        }
      ]
    },
    {
      "cell_type": "code",
      "metadata": {
        "id": "qNwPUBke7aDB",
        "colab_type": "code",
        "colab": {
          "base_uri": "https://localhost:8080/",
          "height": 286
        },
        "outputId": "4dfb8d04-a8a0-4450-a4fe-33e3d19c42b9"
      },
      "source": [
        "log.coef_"
      ],
      "execution_count": 89,
      "outputs": [
        {
          "output_type": "execute_result",
          "data": {
            "text/plain": [
              "array([[-1.57397983e-01,  2.00129953e-01,  1.23927352e-01,\n",
              "         1.54459504e-01,  1.92512279e-02,  1.05710194e-01,\n",
              "         1.92512279e-02,  2.34925419e+00,  3.60659772e-02,\n",
              "        -3.60676155e-02,  1.78844646e-03,  1.01096933e-01,\n",
              "        -1.02887017e-01,  1.01096933e-01,  1.78844646e-03,\n",
              "        -1.02887017e-01, -1.29259709e-02,  1.28201919e-02,\n",
              "         5.77421404e-02,  2.17947644e-02,  2.16666938e-02,\n",
              "         2.26054391e-02, -8.48027206e-02, -1.16727538e-01,\n",
              "        -1.73943336e-02, -6.13325121e-03, -9.49880973e-03,\n",
              "         5.55826698e-02,  3.47015040e-03,  5.17989360e-02,\n",
              "        -3.43999273e-02,  0.00000000e+00, -8.39351925e-02,\n",
              "         8.12549438e-02,  2.72048159e-03,  4.93618440e-03,\n",
              "         1.78844646e-03,  2.29222225e-02,  4.71120268e-03,\n",
              "        -3.13245185e-01,  3.13243547e-01, -9.06165874e-02,\n",
              "         9.06149491e-02, -5.13973400e-02,  5.13957016e-02,\n",
              "        -3.27616133e-02,  3.80021068e-02, -5.24213186e-03]])"
            ]
          },
          "metadata": {
            "tags": []
          },
          "execution_count": 89
        }
      ]
    },
    {
      "cell_type": "code",
      "metadata": {
        "id": "bikQuDAR38CK",
        "colab_type": "code",
        "colab": {
          "base_uri": "https://localhost:8080/",
          "height": 34
        },
        "outputId": "c23fd9be-1ffe-483b-c7c2-4e947897ee89"
      },
      "source": [
        "print(\"Accuracy of the model against test_data: \",logistic_regression.score(test_df.to_numpy(),test_y.astype(int)))"
      ],
      "execution_count": 90,
      "outputs": [
        {
          "output_type": "stream",
          "text": [
            "Accuracy of the model against test_data:  0.465\n"
          ],
          "name": "stdout"
        }
      ]
    }
  ]
}